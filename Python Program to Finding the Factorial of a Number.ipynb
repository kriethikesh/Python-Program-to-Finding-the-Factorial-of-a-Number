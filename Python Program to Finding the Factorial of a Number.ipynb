{
  "nbformat": 4,
  "nbformat_minor": 0,
  "metadata": {
    "colab": {
      "provenance": []
    },
    "kernelspec": {
      "name": "python3",
      "display_name": "Python 3"
    },
    "language_info": {
      "name": "python"
    }
  },
  "cells": [
    {
      "cell_type": "code",
      "source": [
        "#Python Program to Finding the Factorial of a Number"
      ],
      "metadata": {
        "id": "WWZCmTIxUKbX"
      },
      "execution_count": 40,
      "outputs": []
    },
    {
      "cell_type": "code",
      "source": [
        "num=int(input(\"enter a number :\"))\n",
        "t=num\n",
        "x=1\n",
        "for i in range(1,num+1):\n",
        "  x=x*i\n",
        "print(\"the factorial of\",t,\"is:\",x)\n"
      ],
      "metadata": {
        "id": "Y8BZk8xjUTuO"
      },
      "execution_count": null,
      "outputs": []
    },
    {
      "cell_type": "code",
      "source": [],
      "metadata": {
        "id": "bCs6SIkRVDHl"
      },
      "execution_count": null,
      "outputs": []
    }
  ]
}